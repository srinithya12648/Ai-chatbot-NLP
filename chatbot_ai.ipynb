
{
 "cells": [
  {
   "cell_type": "code",
   "execution_count": null,
   "id": "install-libs",
   "metadata": {},
   "outputs": [],
   "source": [
    "!pip install sentence-transformers gradio --quiet"
   ]
  },
  {
   "cell_type": "code",
   "execution_count": null,
   "id": "import-libs",
   "metadata": {},
   "outputs": [],
   "source": [
    "from sentence_transformers import SentenceTransformer, util\n",
    "import gradio as gr\n",
    "import numpy as np"
   ]
  },
  {
   "cell_type": "code",
   "execution_count": null,
   "id": "define-kb",
   "metadata": {},
   "outputs": [],
   "source": [
    "qa_pairs = {\n",
    "    \"what is ai\": \"AI stands for Artificial Intelligence, the simulation of human intelligence by machines.\",\n",
    "    \"types of ai\": \"The main types of AI are Narrow AI, General AI, and Super AI.\",\n",
    "    \"what is machine learning\": \"Machine Learning is a subset of AI that enables systems to learn from data and improve over time.\",\n",
    "    \"what is deep learning\": \"Deep Learning is a type of machine learning that uses neural networks with many layers.\",\n",
    "    \"what is a neural network\": \"A neural network is a series of algorithms that mimics the operations of a human brain to recognize relationships in data.\",\n",
    "    \"examples of ai\": \"Examples of AI include voice assistants, self-driving cars, recommendation systems, and fraud detection.\",\n",
    "    \"advantages of ai\": \"AI increases efficiency, reduces human error, and can handle repetitive tasks.\",\n",
    "    \"disadvantages of ai\": \"Disadvantages include job displacement, bias in algorithms, and high development costs.\",\n",
    "    \"what is natural language processing\": \"NLP is a field of AI focused on enabling computers to understand and process human languages.\",\n",
    "    \"who is the father of ai\": \"John McCarthy is considered the father of Artificial Intelligence.\"\n",
    "}"
   ]
  },
  {
   "cell_type": "code",
   "execution_count": null,
   "id": "load-model",
   "metadata": {},
   "outputs": [],
   "source": [
    "model = SentenceTransformer('all-MiniLM-L6-v2')\n",
    "questions = list(qa_pairs.keys())\n",
    "question_embeddings = model.encode(questions, convert_to_tensor=True)"
   ]
  },
  {
   "cell_type": "code",
   "execution_count": null,
   "id": "get-answer",
   "metadata": {},
   "outputs": [],
   "source": [
    "def get_answer(user_input):\n",
    "    user_embedding = model.encode(user_input, convert_to_tensor=True)\n",
    "    similarities = util.pytorch_cos_sim(user_embedding, question_embeddings)[0]\n",
    "    best_score = float(similarities.max())\n",
    "    best_idx = int(similarities.argmax())\n",
    "    if best_score > 0.5:\n",
    "        return qa_pairs[questions[best_idx]]\n",
    "    else:\n",
    "        return \"Sorry, I don't understand the question.\""
   ]
  },
  {
   "cell_type": "code",
   "execution_count": null,
   "id": "gradio-ui",
   "metadata": {},
   "outputs": [],
   "source": [
    "iface = gr.Interface(fn=get_answer,\n",
    "                     inputs=gr.Textbox(lines=2, placeholder=\"Ask me anything about AI...\"),\n",
    "                     outputs=\"text\",\n",
    "                     title=\"AI Chatbot\",\n",
    "                     description=\"Ask questions about Artificial Intelligence, Machine Learning, and more.\")\n",
    "iface.launch()"
   ]
  }
 ],
 "metadata": {},
 "nbformat": 4,
 "nbformat_minor": 5
}
